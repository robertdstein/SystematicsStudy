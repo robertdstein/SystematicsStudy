{
 "cells": [
  {
   "cell_type": "code",
   "execution_count": 1,
   "metadata": {
    "collapsed": false
   },
   "outputs": [],
   "source": [
    "import numpy\n",
    "numpy.__version__\n",
    "import numpy as np\n",
    "import matplotlib.pyplot as plt\n",
    "import scipy.stats\n",
    "\n",
    "%matplotlib inline\n",
    "%load_ext autoreload\n",
    "%autoreload 2"
   ]
  },
  {
   "cell_type": "code",
   "execution_count": 2,
   "metadata": {
    "collapsed": true
   },
   "outputs": [],
   "source": [
    "#Returns an array of zeroes (50 * 100000)\n",
    "data = np.zeros((50., 1.e5))\n",
    "\n",
    "#Loops over each set of 100000 zeroes (i.e 50 times)\n",
    "for i, dump in enumerate(data):\n",
    "    #Random (poisson) values\n",
    "    data[i] = scipy.stats.poisson.rvs(mu=i+1.e-5, size=len(dump))\n",
    "\n",
    "def DetChance(mu, DetChance=np.zeros(100)):\n",
    "    \"\"\"Calculates chance of detection?\n",
    "    \"\"\"\n",
    "    if mu==0.:\n",
    "        return DetChance[0]\n",
    "    else:\n",
    "        NEvents = np.array(range(len(DetChance)))\n",
    "        value = DetChance * scipy.stats.poisson.pmf(NEvents, mu)\n",
    "        return np.sum(value) + scipy.stats.poisson.sf(NEvents[-1], mu)\n",
    "\n",
    "#Calculates the alpha-th percentile of the Test statistic results, as a threshold\n",
    "alpha = 50.\n",
    "beta = 90.\n",
    "lambda_thres = np.percentile(data[0], alpha)\n",
    "\n",
    "#Creates a zero-array, and fills it with the percentile of each result\n",
    "DetChanceArray = np.zeros(len(data))\n",
    "for i, dump in enumerate(DetChanceArray):\n",
    "    DetChanceArray[i] = 1. - scipy.stats.percentileofscore(data[i], lambda_thres)/100."
   ]
  },
  {
   "cell_type": "code",
   "execution_count": 3,
   "metadata": {
    "collapsed": true
   },
   "outputs": [],
   "source": [
    "#Finds the sensitivity (beta(90%) chance of detection)  \n",
    "\n",
    "f = lambda x: DetChance(x, DetChance=DetChanceArray) - beta/100.\n",
    "sens = scipy.optimize.bisect(f, 0., 100., )"
   ]
  },
  {
   "cell_type": "code",
   "execution_count": 4,
   "metadata": {
    "collapsed": false
   },
   "outputs": [
    {
     "name": "stdout",
     "output_type": "stream",
     "text": [
      "2.54571230323\n"
     ]
    },
    {
     "data": {
      "image/png": "[encoded data removed]",
      "text/plain": [
       "<matplotlib.figure.Figure at 0x7f1621abd390>"
      ]
     },
     "metadata": {},
     "output_type": "display_data"
    }
   ],
   "source": [
    "#Plots detection probability as a function of n_s\n",
    "x = np.linspace(0., 10., 1000.+1)\n",
    "y = np.array([DetChance(z,  DetChance=DetChanceArray) for z in x])\n",
    "\n",
    "print sens\n",
    "plt.figure(figsize=(10, 7))\n",
    "plt.plot(x, y, lw=2)\n",
    "plt.axvline(x=sens, lw=2, color='red')\n",
    "plt.grid()\n",
    "plt.show()"
   ]
  },
  {
   "cell_type": "code",
   "execution_count": null,
   "metadata": {
    "collapsed": true
   },
   "outputs": [],
   "source": []
  },
  {
   "cell_type": "code",
   "execution_count": null,
   "metadata": {
    "collapsed": true
   },
   "outputs": [],
   "source": []
  }
 ],
 "metadata": {
  "kernelspec": {
   "display_name": "Python 2",
   "language": "python",
   "name": "python2"
  },
  "language_info": {
   "codemirror_mode": {
    "name": "ipython",
    "version": 2
   },
   "file_extension": ".py",
   "mimetype": "text/x-python",
   "name": "python",
   "nbconvert_exporter": "python",
   "pygments_lexer": "ipython2",
   "version": "2.7.10"
  }
 },
 "nbformat": 4,
 "nbformat_minor": 1
}
