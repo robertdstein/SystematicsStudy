{
 "cells": [
  {
   "cell_type": "code",
   "execution_count": 1,
   "metadata": {
    "collapsed": false,
    "deletable": true,
    "editable": true
   },
   "outputs": [],
   "source": [
    "import numpy as np\n",
    "import matplotlib.pyplot as plt\n",
    "import scipy.stats\n",
    "from scipy.optimize import minimize_scalar\n",
    "\n",
    "import astropy.units as u\n",
    "import astropy.constants as const\n",
    "\n",
    "# from tqdm import tqdm\n",
    "\n",
    "%matplotlib inline\n",
    "%load_ext autoreload\n",
    "%autoreload 2\n",
    "\n",
    "\n",
    "# from matplotlib import cm\n",
    "# import colormaps\n",
    "# col = [ colormaps.viridis(x) for x in np.linspace(0, 1, 20) ]\n",
    "\n",
    "\n",
    "plt.rcParams['xtick.labelsize'] = 14\n",
    "plt.rcParams['ytick.labelsize'] = 14\n",
    "plt.rcParams['axes.labelsize']=14\n",
    "plt.rcParams['savefig.dpi'] = 400\n",
    "plt.rcParams['legend.fancybox'] = True\n",
    "plt.rcParams['legend.frameon'] = False\n",
    "plt.rcParams['font.family'] = 'Times New Roman'\n",
    "plt.rcParams['lines.linewidth'] = 2.\n",
    "#from matplotlib import rc\n",
    "# rc('text', usetex=True)\n",
    "\n",
    "from scipy.spatial import distance_matrix\n",
    "from scipy.sparse import csr_matrix\n",
    "from scipy.sparse.csgraph import minimum_spanning_tree\n",
    "\n",
    "desy_o = '#F28E00'\n",
    "desy_b = '#00A6EB'\n",
    "desy_g = '#777777'"
   ]
  },
  {
   "cell_type": "code",
   "execution_count": 2,
   "metadata": {
    "collapsed": false,
    "deletable": true,
    "editable": true
   },
   "outputs": [],
   "source": [
    "rc('text', usetex=False)\n",
    "# plt.xkcd()\n"
   ]
  },
  {
   "cell_type": "code",
   "execution_count": null,
   "metadata": {
    "collapsed": false,
    "deletable": true,
    "editable": true
   },
   "outputs": [],
   "source": []
  },
  {
   "cell_type": "code",
   "execution_count": 14,
   "metadata": {
    "collapsed": false,
    "deletable": true,
    "editable": true
   },
   "outputs": [
    {
     "data": {
      "image/png": "[encoded data removed]",
      "text/plain": [
       "<matplotlib.figure.Figure at 0x10e580850>"
      ]
     },
     "metadata": {},
     "output_type": "display_data"
    }
   ],
   "source": [
    "X = np.random.rand(25, 2)\n",
    "x = X.T[0]\n",
    "y = X.T[1]\n",
    "DistanceMatrix = distance_matrix(X, X)\n",
    "M = csr_matrix(np.triu(DistanceMatrix))\n",
    "Tcsr = minimum_spanning_tree(M)\n",
    "MyMask = Tcsr.toarray()!=0\n",
    "\n",
    "fig = plt.figure()\n",
    "ax = plt.subplot(111)\n",
    "ax.scatter(x, y, lw=0, s=100, color=desy_b)\n",
    "for i in range(len(MyMask)):\n",
    "    for j in range(len(MyMask)):\n",
    "        if  MyMask[i][j]:\n",
    "            ax.plot(np.append(x[i], x[j]), np.append(y[i], y[j]), color=desy_o,)              \n",
    "ax.spines['right'].set_visible(False)\n",
    "ax.spines['top'].set_visible(False)\n",
    "ax.spines['left'].set_visible(False)\n",
    "ax.spines['bottom'].set_visible(False)\n",
    "ax.yaxis.set_ticks_position('left')\n",
    "ax.yaxis.set_ticks_position('right')\n",
    "ax.set_xticks([])\n",
    "ax.set_yticks([])\n",
    "plt.savefig('plots/MinimalSpanningTree.pdf')\n",
    "plt.show()"
   ]
  },
  {
   "cell_type": "code",
   "execution_count": null,
   "metadata": {
    "collapsed": false,
    "deletable": true,
    "editable": true
   },
   "outputs": [],
   "source": []
  },
  {
   "cell_type": "code",
   "execution_count": null,
   "metadata": {
    "collapsed": true,
    "deletable": true,
    "editable": true
   },
   "outputs": [],
   "source": []
  },
  {
   "cell_type": "code",
   "execution_count": null,
   "metadata": {
    "collapsed": true,
    "deletable": true,
    "editable": true
   },
   "outputs": [],
   "source": []
  }
 ],
 "metadata": {
  "kernelspec": {
   "display_name": "Python 2",
   "language": "python",
   "name": "python2"
  },
  "language_info": {
   "codemirror_mode": {
    "name": "ipython",
    "version": 2
   },
   "file_extension": ".py",
   "mimetype": "text/x-python",
   "name": "python",
   "nbconvert_exporter": "python",
   "pygments_lexer": "ipython2",
   "version": "2.7.10"
  }
 },
 "nbformat": 4,
 "nbformat_minor": 0
}
